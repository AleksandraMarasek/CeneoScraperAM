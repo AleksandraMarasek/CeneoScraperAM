{
 "cells": [
  {
   "cell_type": "markdown",
   "metadata": {},
   "source": [
    "# Ceneo Analyzer"
   ]
  },
  {
   "cell_type": "markdown",
   "metadata": {},
   "source": [
    "## Biblioteki"
   ]
  },
  {
   "cell_type": "code",
   "execution_count": 59,
   "metadata": {},
   "outputs": [],
   "source": [
    "import os\n",
    "import pandas as pd\n",
    "import numpy as np\n",
    "from matplotlib import pyplot as plt\n"
   ]
  },
  {
   "cell_type": "markdown",
   "metadata": {},
   "source": [
    "## Lista kodów produktów o których zostały pobrane opinie"
   ]
  },
  {
   "cell_type": "code",
   "execution_count": 60,
   "metadata": {},
   "outputs": [
    {
     "name": "stdout",
     "output_type": "stream",
     "text": [
      "114700014\n"
     ]
    }
   ],
   "source": [
    "print(*[filename.split(\".\")[0] for filename in os.listdir(\"opinions\")], sep=\"\\n\")"
   ]
  },
  {
   "cell_type": "markdown",
   "metadata": {},
   "source": [
    "## Kod produktu, którego opinie mają zostać przeanalizowane"
   ]
  },
  {
   "cell_type": "code",
   "execution_count": 61,
   "metadata": {},
   "outputs": [],
   "source": [
    "product_id = input(\"Proszę podać kod produktu: \")"
   ]
  },
  {
   "cell_type": "markdown",
   "metadata": {},
   "source": [
    "## Wczytanie do obiektu"
   ]
  },
  {
   "cell_type": "code",
   "execution_count": 62,
   "metadata": {},
   "outputs": [
    {
     "data": {
      "text/html": [
       "<div>\n",
       "<style scoped>\n",
       "    .dataframe tbody tr th:only-of-type {\n",
       "        vertical-align: middle;\n",
       "    }\n",
       "\n",
       "    .dataframe tbody tr th {\n",
       "        vertical-align: top;\n",
       "    }\n",
       "\n",
       "    .dataframe thead th {\n",
       "        text-align: right;\n",
       "    }\n",
       "</style>\n",
       "<table border=\"1\" class=\"dataframe\">\n",
       "  <thead>\n",
       "    <tr style=\"text-align: right;\">\n",
       "      <th></th>\n",
       "      <th>opinion_id</th>\n",
       "      <th>author</th>\n",
       "      <th>recommendation</th>\n",
       "      <th>rating</th>\n",
       "      <th>content</th>\n",
       "      <th>pros</th>\n",
       "      <th>cons</th>\n",
       "      <th>useful</th>\n",
       "      <th>useless</th>\n",
       "      <th>post_date</th>\n",
       "      <th>purchase_date</th>\n",
       "    </tr>\n",
       "  </thead>\n",
       "  <tbody>\n",
       "    <tr>\n",
       "      <th>0</th>\n",
       "      <td>18536064</td>\n",
       "      <td>A...t</td>\n",
       "      <td>Polecam</td>\n",
       "      <td>5.0</td>\n",
       "      <td>Długo szukałam, sporo filmików na YT o ujrzała...</td>\n",
       "      <td>[]</td>\n",
       "      <td>[]</td>\n",
       "      <td>0</td>\n",
       "      <td>0</td>\n",
       "      <td>2024-03-29 11:14:23</td>\n",
       "      <td>2024-03-17 13:45:25</td>\n",
       "    </tr>\n",
       "    <tr>\n",
       "      <th>1</th>\n",
       "      <td>17516357</td>\n",
       "      <td>g...a</td>\n",
       "      <td>Polecam</td>\n",
       "      <td>5.0</td>\n",
       "      <td>Fantastyczny sprzęt, bardzo mocny, lekki i odp...</td>\n",
       "      <td>[dużo końcówek, poręczny, przycisk zasilania, ...</td>\n",
       "      <td>[]</td>\n",
       "      <td>0</td>\n",
       "      <td>2</td>\n",
       "      <td>2023-05-17 10:52:54</td>\n",
       "      <td>2023-05-12 09:57:19</td>\n",
       "    </tr>\n",
       "    <tr>\n",
       "      <th>2</th>\n",
       "      <td>18499460</td>\n",
       "      <td>j...k</td>\n",
       "      <td>Polecam</td>\n",
       "      <td>4.0</td>\n",
       "      <td>Odkurzacz spełnia wymagania</td>\n",
       "      <td>[dużo końcówek, poręczny, przycisk zasilania, ...</td>\n",
       "      <td>[]</td>\n",
       "      <td>1</td>\n",
       "      <td>0</td>\n",
       "      <td>2024-03-18 08:42:26</td>\n",
       "      <td>2024-03-10 15:49:13</td>\n",
       "    </tr>\n",
       "    <tr>\n",
       "      <th>3</th>\n",
       "      <td>18457506</td>\n",
       "      <td>n...2</td>\n",
       "      <td>Polecam</td>\n",
       "      <td>5.0</td>\n",
       "      <td>Produkt super</td>\n",
       "      <td>[dużo końcówek, lekki, poręczny, przycisk zasi...</td>\n",
       "      <td>[]</td>\n",
       "      <td>0</td>\n",
       "      <td>0</td>\n",
       "      <td>2024-03-04 08:34:36</td>\n",
       "      <td>2024-02-17 16:31:32</td>\n",
       "    </tr>\n",
       "    <tr>\n",
       "      <th>4</th>\n",
       "      <td>16459243</td>\n",
       "      <td>l...i</td>\n",
       "      <td>Polecam</td>\n",
       "      <td>5.0</td>\n",
       "      <td>Mam w domu psa który zrzuca non stop dużo sier...</td>\n",
       "      <td>[dużo końcówek, poręczny, przycisk zasilania, ...</td>\n",
       "      <td>[]</td>\n",
       "      <td>2</td>\n",
       "      <td>0</td>\n",
       "      <td>2022-08-26 11:17:23</td>\n",
       "      <td>2022-08-21 20:00:27</td>\n",
       "    </tr>\n",
       "    <tr>\n",
       "      <th>...</th>\n",
       "      <td>...</td>\n",
       "      <td>...</td>\n",
       "      <td>...</td>\n",
       "      <td>...</td>\n",
       "      <td>...</td>\n",
       "      <td>...</td>\n",
       "      <td>...</td>\n",
       "      <td>...</td>\n",
       "      <td>...</td>\n",
       "      <td>...</td>\n",
       "      <td>...</td>\n",
       "    </tr>\n",
       "    <tr>\n",
       "      <th>180</th>\n",
       "      <td>17545591</td>\n",
       "      <td>J...2</td>\n",
       "      <td>Polecam</td>\n",
       "      <td>5.0</td>\n",
       "      <td>Ok</td>\n",
       "      <td>[]</td>\n",
       "      <td>[]</td>\n",
       "      <td>0</td>\n",
       "      <td>0</td>\n",
       "      <td>2023-05-25 07:24:58</td>\n",
       "      <td>2023-05-07 16:04:38</td>\n",
       "    </tr>\n",
       "    <tr>\n",
       "      <th>181</th>\n",
       "      <td>17448760</td>\n",
       "      <td>b...r</td>\n",
       "      <td>Polecam</td>\n",
       "      <td>5.0</td>\n",
       "      <td>ok</td>\n",
       "      <td>[dużo końcówek, lekki, poręczny, przycisk zasi...</td>\n",
       "      <td>[]</td>\n",
       "      <td>0</td>\n",
       "      <td>0</td>\n",
       "      <td>2023-04-26 21:03:39</td>\n",
       "      <td>2023-04-23 10:00:47</td>\n",
       "    </tr>\n",
       "    <tr>\n",
       "      <th>182</th>\n",
       "      <td>15826211</td>\n",
       "      <td>Użytkownik Ceneo</td>\n",
       "      <td>Polecam</td>\n",
       "      <td>5.0</td>\n",
       "      <td>Odkurzacz mały, poręczny przy tym posiada bard...</td>\n",
       "      <td>[lekki, poręczny, przycisk zasilania, wyświetl...</td>\n",
       "      <td>[]</td>\n",
       "      <td>0</td>\n",
       "      <td>0</td>\n",
       "      <td>2022-03-15 20:58:40</td>\n",
       "      <td>None</td>\n",
       "    </tr>\n",
       "    <tr>\n",
       "      <th>183</th>\n",
       "      <td>18125745</td>\n",
       "      <td>t...l</td>\n",
       "      <td>Nie polecam</td>\n",
       "      <td>2.5</td>\n",
       "      <td>Odkurza dobrze, niestety bardzo szybko rozłado...</td>\n",
       "      <td>[lekki, poręczny, przycisk zasilania, wyświetl...</td>\n",
       "      <td>[wytrzymała bateria]</td>\n",
       "      <td>0</td>\n",
       "      <td>0</td>\n",
       "      <td>2023-11-22 12:40:45</td>\n",
       "      <td>2023-11-10 10:24:44</td>\n",
       "    </tr>\n",
       "    <tr>\n",
       "      <th>184</th>\n",
       "      <td>16211151</td>\n",
       "      <td>Mariusz</td>\n",
       "      <td>Nie polecam</td>\n",
       "      <td>1.0</td>\n",
       "      <td>Czy u was jest też taki głośny. Ma w parametra...</td>\n",
       "      <td>[]</td>\n",
       "      <td>[brak]</td>\n",
       "      <td>0</td>\n",
       "      <td>2</td>\n",
       "      <td>2022-06-15 02:37:53</td>\n",
       "      <td>None</td>\n",
       "    </tr>\n",
       "  </tbody>\n",
       "</table>\n",
       "<p>185 rows × 11 columns</p>\n",
       "</div>"
      ],
      "text/plain": [
       "     opinion_id            author recommendation  rating  \\\n",
       "0      18536064             A...t        Polecam     5.0   \n",
       "1      17516357             g...a        Polecam     5.0   \n",
       "2      18499460             j...k        Polecam     4.0   \n",
       "3      18457506             n...2        Polecam     5.0   \n",
       "4      16459243             l...i        Polecam     5.0   \n",
       "..          ...               ...            ...     ...   \n",
       "180    17545591             J...2        Polecam     5.0   \n",
       "181    17448760             b...r        Polecam     5.0   \n",
       "182    15826211  Użytkownik Ceneo        Polecam     5.0   \n",
       "183    18125745             t...l    Nie polecam     2.5   \n",
       "184    16211151           Mariusz    Nie polecam     1.0   \n",
       "\n",
       "                                               content  \\\n",
       "0    Długo szukałam, sporo filmików na YT o ujrzała...   \n",
       "1    Fantastyczny sprzęt, bardzo mocny, lekki i odp...   \n",
       "2                          Odkurzacz spełnia wymagania   \n",
       "3                                        Produkt super   \n",
       "4    Mam w domu psa który zrzuca non stop dużo sier...   \n",
       "..                                                 ...   \n",
       "180                                                 Ok   \n",
       "181                                                 ok   \n",
       "182  Odkurzacz mały, poręczny przy tym posiada bard...   \n",
       "183  Odkurza dobrze, niestety bardzo szybko rozłado...   \n",
       "184  Czy u was jest też taki głośny. Ma w parametra...   \n",
       "\n",
       "                                                  pros                  cons  \\\n",
       "0                                                   []                    []   \n",
       "1    [dużo końcówek, poręczny, przycisk zasilania, ...                    []   \n",
       "2    [dużo końcówek, poręczny, przycisk zasilania, ...                    []   \n",
       "3    [dużo końcówek, lekki, poręczny, przycisk zasi...                    []   \n",
       "4    [dużo końcówek, poręczny, przycisk zasilania, ...                    []   \n",
       "..                                                 ...                   ...   \n",
       "180                                                 []                    []   \n",
       "181  [dużo końcówek, lekki, poręczny, przycisk zasi...                    []   \n",
       "182  [lekki, poręczny, przycisk zasilania, wyświetl...                    []   \n",
       "183  [lekki, poręczny, przycisk zasilania, wyświetl...  [wytrzymała bateria]   \n",
       "184                                                 []                [brak]   \n",
       "\n",
       "     useful  useless            post_date        purchase_date  \n",
       "0         0        0  2024-03-29 11:14:23  2024-03-17 13:45:25  \n",
       "1         0        2  2023-05-17 10:52:54  2023-05-12 09:57:19  \n",
       "2         1        0  2024-03-18 08:42:26  2024-03-10 15:49:13  \n",
       "3         0        0  2024-03-04 08:34:36  2024-02-17 16:31:32  \n",
       "4         2        0  2022-08-26 11:17:23  2022-08-21 20:00:27  \n",
       "..      ...      ...                  ...                  ...  \n",
       "180       0        0  2023-05-25 07:24:58  2023-05-07 16:04:38  \n",
       "181       0        0  2023-04-26 21:03:39  2023-04-23 10:00:47  \n",
       "182       0        0  2022-03-15 20:58:40                 None  \n",
       "183       0        0  2023-11-22 12:40:45  2023-11-10 10:24:44  \n",
       "184       0        2  2022-06-15 02:37:53                 None  \n",
       "\n",
       "[185 rows x 11 columns]"
      ]
     },
     "execution_count": 62,
     "metadata": {},
     "output_type": "execute_result"
    }
   ],
   "source": [
    "opinions = pd.read_json(f\"opinions/{product_id}.json\")\n",
    "opinions.rating = opinions.rating.apply(lambda r : r.split(\"/\")[0].replace(\",\",\".\"), ).astype(float)\n",
    "opinions.recommendation = opinions.recommendation.apply(lambda r: \"Brak Rekomendacji\" if r is None else r)\n",
    "opinions"
   ]
  },
  {
   "cell_type": "markdown",
   "metadata": {},
   "source": [
    "## Podstawowe statystyki zbioru opinii"
   ]
  },
  {
   "cell_type": "code",
   "execution_count": 63,
   "metadata": {},
   "outputs": [],
   "source": [
    "opinions_count = opinions.shape[0]\n",
    "pros_count = opinions.pros.apply(lambda p: 1 if p else 0).sum()\n",
    "cons_count = opinions.cons.apply(lambda c: 1 if c else 0).sum()\n",
    "average_rating = opinions.rating.mean()"
   ]
  },
  {
   "cell_type": "markdown",
   "metadata": {},
   "source": [
    "## Histogram częstości poszczególnych ocen produktu"
   ]
  },
  {
   "cell_type": "code",
   "execution_count": 64,
   "metadata": {},
   "outputs": [
    {
     "data": {
      "text/plain": [
       "rating\n",
       "0.0      0\n",
       "0.5      0\n",
       "1.0      2\n",
       "1.5      0\n",
       "2.0      0\n",
       "2.5      1\n",
       "3.0      1\n",
       "3.5      2\n",
       "4.0     11\n",
       "4.5     18\n",
       "5.0    150\n",
       "Name: count, dtype: int64"
      ]
     },
     "execution_count": 64,
     "metadata": {},
     "output_type": "execute_result"
    }
   ],
   "source": [
    "#rating_distribution = opinions.rating.hist(bins = np.arange(0,5.5,0.5).tolist()) \n",
    "rating_distribution = opinions.rating.value_counts().reindex(np.arange(0,5.5,0.5), fill_value=0)\n",
    "rating_distribution"
   ]
  },
  {
   "cell_type": "code",
   "execution_count": 65,
   "metadata": {},
   "outputs": [
    {
     "data": {
      "text/plain": [
       "[Text(0, 0, '0'),\n",
       " Text(0, 0, '0'),\n",
       " Text(0, 0, '2'),\n",
       " Text(0, 0, '0'),\n",
       " Text(0, 0, '0'),\n",
       " Text(0, 0, '1'),\n",
       " Text(0, 0, '1'),\n",
       " Text(0, 0, '2'),\n",
       " Text(0, 0, '11'),\n",
       " Text(0, 0, '18'),\n",
       " Text(0, 0, '150')]"
      ]
     },
     "execution_count": 65,
     "metadata": {},
     "output_type": "execute_result"
    },
    {
     "data": {
      "image/png": "[encoded data removed]",
      "text/plain": [
       "<Figure size 640x480 with 1 Axes>"
      ]
     },
     "metadata": {},
     "output_type": "display_data"
    }
   ],
   "source": [
    "fig, ax= plt.subplots()\n",
    "rating_distribution.plot.bar(color = \"pink\")\n",
    "plt.title(\"Histogram częstości gwiazdek\")\n",
    "plt.xlabel(\"Liczba gwiazdek\")\n",
    "plt.ylabel(\"Liczba opinii\")\n",
    "plt.xticks(rotation = 0)\n",
    "plt.bar_label(ax.containers[0], label_type=\"edge\")"
   ]
  },
  {
   "cell_type": "markdown",
   "metadata": {},
   "source": [
    "## Udział poszczególnych rekomendacji w opiniach o produkcie"
   ]
  },
  {
   "cell_type": "code",
   "execution_count": 68,
   "metadata": {},
   "outputs": [
    {
     "data": {
      "text/plain": [
       "recommendation\n",
       "Polecam              179\n",
       "Nie polecam            3\n",
       "Brak Rekomendacji      3\n",
       "Name: count, dtype: int64"
      ]
     },
     "execution_count": 68,
     "metadata": {},
     "output_type": "execute_result"
    }
   ],
   "source": [
    "recommendation_distribution = opinions.recommendation.value_counts().reindex([\"Polecam\", \"Nie polecam\", \"Brak Rekomendacji\"])\n",
    "recommendation_distribution"
   ]
  },
  {
   "cell_type": "code",
   "execution_count": 70,
   "metadata": {},
   "outputs": [
    {
     "data": {
      "text/plain": [
       "<Axes: >"
      ]
     },
     "execution_count": 70,
     "metadata": {},
     "output_type": "execute_result"
    },
    {
     "data": {
      "image/png": "[encoded data removed]",
      "text/plain": [
       "<Figure size 640x480 with 1 Axes>"
      ]
     },
     "metadata": {},
     "output_type": "display_data"
    }
   ],
   "source": [
    "recommendation_distribution.plot.pie(\n",
    "    colors = [\"hotpink\", \"deeppink\", \"lavenderblush\"],\n",
    "    autopct = \"%1.1f%%\",\n",
    "    label = \"\"\n",
    ")"
   ]
  }
 ],
 "metadata": {
  "kernelspec": {
   "display_name": ".venv",
   "language": "python",
   "name": "python3"
  },
  "language_info": {
   "codemirror_mode": {
    "name": "ipython",
    "version": 3
   },
   "file_extension": ".py",
   "mimetype": "text/x-python",
   "name": "python",
   "nbconvert_exporter": "python",
   "pygments_lexer": "ipython3",
   "version": "3.12.0"
  }
 },
 "nbformat": 4,
 "nbformat_minor": 2
}
